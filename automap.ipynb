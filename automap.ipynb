{
 "cells": [
  {
   "cell_type": "code",
   "execution_count": 1,
   "metadata": {
    "vscode": {
     "languageId": "plaintext"
    }
   },
   "outputs": [],
   "source": [
    "import json\n",
    "from sentence_transformers import SentenceTransformer\n",
    "from sklearn.metrics.pairwise import cosine_similarity"
   ]
  },
  {
   "cell_type": "code",
   "execution_count": 2,
   "metadata": {
    "vscode": {
     "languageId": "plaintext"
    }
   },
   "outputs": [],
   "source": [
    "model_name = 'sentence-transformers/all-mpnet-base-v2'\n",
    "base = 'example/ccm-4.0.7_OSCAL.json'\n",
    "target = 'example/cis-controls-v8_OSCAL-1.0.json'\n",
    "threshold = 0.7"
   ]
  },
  {
   "cell_type": "code",
   "execution_count": 3,
   "metadata": {
    "vscode": {
     "languageId": "plaintext"
    }
   },
   "outputs": [],
   "source": [
    "with open(base, \"r\") as f:\n",
    "    base_catalog = json.load(f)"
   ]
  },
  {
   "cell_type": "code",
   "execution_count": 4,
   "metadata": {
    "vscode": {
     "languageId": "plaintext"
    }
   },
   "outputs": [],
   "source": [
    "base_controls = {}\n",
    "groups = base_catalog.get('catalog', {}).get('groups', [])\n",
    "for group in groups:\n",
    "    for control in group.get('controls', []):\n",
    "        if control.get('class') == \"control\":\n",
    "            parts = control.get('parts')[0]\n",
    "            base_controls[control.get('id')] = parts.get('prose').replace('\\n',' ')\n",
    "            \n",
    "#base_controls"
   ]
  },
  {
   "cell_type": "code",
   "execution_count": 5,
   "metadata": {
    "vscode": {
     "languageId": "plaintext"
    }
   },
   "outputs": [],
   "source": [
    "with open(target, \"r\") as f:\n",
    "    target_catalog = json.load(f)"
   ]
  },
  {
   "cell_type": "code",
   "execution_count": 6,
   "metadata": {
    "vscode": {
     "languageId": "plaintext"
    }
   },
   "outputs": [],
   "source": [
    "target_controls = {}\n",
    "controls = target_catalog.get('catalog', {}).get('controls', [])\n",
    "for control in controls:\n",
    "    parts = control.get('parts')[0]\n",
    "    target_controls[control.get('id').upper()] = parts.get('prose').replace('   ','')\n",
    "    \n",
    "#target_controls"
   ]
  },
  {
   "cell_type": "code",
   "execution_count": 14,
   "metadata": {
    "vscode": {
     "languageId": "plaintext"
    }
   },
   "outputs": [],
   "source": [
    "control_mapping = {}\n",
    "model = SentenceTransformer(model_name)\n",
    "\n",
    "for id1 in base_controls:\n",
    "    embedding1 = model.encode([base_controls[id1]], convert_to_tensor=True)\n",
    "    max_similarity = -1\n",
    "    max_id2 = None\n",
    "    for id2 in target_controls:\n",
    "        embedding2 = model.encode([target_controls[id2]], convert_to_tensor=True)\n",
    "        similarity = cosine_similarity(embedding1.numpy(), embedding2.numpy())\n",
    "        if similarity > max_similarity:\n",
    "            max_similarity = similarity\n",
    "            max_id2 = id2\n",
    "        #print(f\"{id1} to {id2}: {max_similarity}\")\n",
    "    if max_similarity >= threshold:\n",
    "        control_mapping[id1] = max_id2\n",
    "    else:\n",
    "        control_mapping[id1] = None"
   ]
  },
  {
   "cell_type": "code",
   "execution_count": 15,
   "metadata": {},
   "outputs": [
    {
     "name": "stdout",
     "output_type": "stream",
     "text": [
      "AIS-07 maps to CISC-16\n",
      "Base description: Define and implement a process to remediate application security vulnerabilities, automating remediation when possible. \n",
      "Target description: Manage the security life cycle of in-house developed, hosted, or acquired software to prevent, detect, and remediate security weaknesses before they can impact the enterprise.\n",
      "\n",
      "DSP-01 maps to CISC-3\n",
      "Base description: Establish, document, approve, communicate, apply, evaluate and maintain policies and procedures for the classification, protection and handling of data throughout its lifecycle, and according to all applicable laws and regulations, standards, and risk level. Review and update the policies and procedures at least annually. \n",
      "Target description: Develop processes and technical controls to identify, classify, securely handle, retain, and dispose of data.\n",
      "\n",
      "DSP-03 maps to CISC-3\n",
      "Base description: Create and maintain a data inventory, at least for any sensitive data and personal data. \n",
      "Target description: Develop processes and technical controls to identify, classify, securely handle, retain, and dispose of data.\n",
      "\n",
      "DSP-10 maps to CISC-3\n",
      "Base description: Define, implement and evaluate processes, procedures and technical measures that ensure any transfer of personal or sensitive data is protected from unauthorized access and only processed within scope as permitted by the respective laws and regulations. \n",
      "Target description: Develop processes and technical controls to identify, classify, securely handle, retain, and dispose of data.\n",
      "\n",
      "DSP-13 maps to CISC-3\n",
      "Base description: Define, implement and evaluate processes, procedures and technical measures for the transfer and sub-processing of personal data within the service supply chain, according to any applicable laws and regulations. \n",
      "Target description: Develop processes and technical controls to identify, classify, securely handle, retain, and dispose of data.\n",
      "\n",
      "DSP-17 maps to CISC-3\n",
      "Base description: Define and implement, processes, procedures and technical measures to protect sensitive data throughout it's lifecycle. \n",
      "Target description: Develop processes and technical controls to identify, classify, securely handle, retain, and dispose of data.\n",
      "\n",
      "HRS-11 maps to CISC-14\n",
      "Base description: Establish, document, approve, communicate, apply, evaluate and maintain a security awareness training program for all employees of the organization and provide regular training updates. \n",
      "Target description: Establish and maintain a security awareness program to influence behavior among the workforce to be security conscious and properly skilled to reduce cybersecurity risks to the enterprise.\n",
      "\n",
      "HRS-12 maps to CISC-14\n",
      "Base description: Provide all employees with access to sensitive organizational and personal data with appropriate security awareness training and regular updates in organizational procedures, processes, and policies relating to their professional function relative to the organization. \n",
      "Target description: Establish and maintain a security awareness program to influence behavior among the workforce to be security conscious and properly skilled to reduce cybersecurity risks to the enterprise.\n",
      "\n",
      "IAM-06 maps to CISC-6\n",
      "Base description: Define and implement a user access provisioning process which authorizes, records, and communicates access changes to data and assets. \n",
      "Target description: Use processes and tools to create, assign, manage, and revoke access credentials and privileges for user, administrator, and service accounts for enterprise assets and software.\n",
      "\n",
      "IVS-09 maps to CISC-13\n",
      "Base description: Define, implement and evaluate processes, procedures and defense-in-depth techniques for protection, detection, and timely response to network-based attacks. \n",
      "Target description: Operate processes and tooling to establish and maintain comprehensive network monitoring and defense against security threats across the enterprise’s network infrastructure and user base.\n",
      "\n",
      "LOG-03 maps to CISC-8\n",
      "Base description: Identify and monitor security-related events within applications and the underlying infrastructure. Define and implement a system to generate alerts to responsible stakeholders based on such events and corresponding metrics. \n",
      "Target description: Collect, alert, review, and retain audit logs of events that could help detect, understand, or recover from an attack.\n",
      "\n",
      "LOG-05 maps to CISC-8\n",
      "Base description: Monitor security audit logs to detect activity outside of typical or expected patterns. Establish and follow a defined process to review and take appropriate and timely actions on detected anomalies. \n",
      "Target description: Collect, alert, review, and retain audit logs of events that could help detect, understand, or recover from an attack.\n",
      "\n",
      "SEF-03 maps to CISC-17\n",
      "Base description: 'Establish, document, approve, communicate, apply, evaluate and maintain a security incident response plan, which includes but is not limited to: relevant internal departments, impacted CSCs, and other business critical relationships (such as supply-chain) that may be impacted.' \n",
      "Target description: Establish a program to develop and maintain an incident response capability (e.g., policies, plans, procedures, defined roles, training, and communications) to prepare, detect, and quickly respond to an attack.\n",
      "\n",
      "TVM-01 maps to CISC-7\n",
      "Base description: Establish, document, approve, communicate, apply, evaluate and maintain policies and procedures to identify, report and prioritize the remediation of vulnerabilities, in order to protect systems against vulnerability exploitation. Review and update the policies and procedures at least annually. \n",
      "Target description: Develop a plan to continuously assess and track vulnerabilities on all enterprise assets within the enterprise’s infrastructure, in order to remediate, and minimize, the window of opportunity for attackers. Monitor public and private industry sources for new threat and vulnerability information.\n",
      "\n",
      "TVM-02 maps to CISC-10\n",
      "Base description: Establish, document, approve, communicate, apply, evaluate and maintain policies and procedures to protect against malware on managed assets. Review and update the policies and procedures at least annually. \n",
      "Target description: Prevent or control the installation, spread, and execution of malicious applications, code, or scripts on enterprise assets.\n",
      "\n",
      "TVM-03 maps to CISC-7\n",
      "Base description: Define, implement and evaluate processes, procedures and technical measures to enable both scheduled and emergency responses to vulnerability identifications, based on the identified risk. \n",
      "Target description: Develop a plan to continuously assess and track vulnerabilities on all enterprise assets within the enterprise’s infrastructure, in order to remediate, and minimize, the window of opportunity for attackers. Monitor public and private industry sources for new threat and vulnerability information.\n",
      "\n",
      "TVM-04 maps to CISC-13\n",
      "Base description: Define, implement and evaluate processes, procedures and technical measures to update detection tools, threat signatures, and indicators of compromise on a weekly, or more frequent basis. \n",
      "Target description: Operate processes and tooling to establish and maintain comprehensive network monitoring and defense against security threats across the enterprise’s network infrastructure and user base.\n",
      "\n",
      "TVM-07 maps to CISC-7\n",
      "Base description: Define, implement and evaluate processes, procedures and technical measures for the detection of vulnerabilities on organizationally managed assets at least monthly. \n",
      "Target description: Develop a plan to continuously assess and track vulnerabilities on all enterprise assets within the enterprise’s infrastructure, in order to remediate, and minimize, the window of opportunity for attackers. Monitor public and private industry sources for new threat and vulnerability information.\n",
      "\n",
      "UEM-05 maps to CISC-3\n",
      "Base description: Define, implement and evaluate processes, procedures and technical measures to enforce policies and controls for all endpoints permitted to access systems and/or store, transmit, or process organizational data. \n",
      "Target description: Develop processes and technical controls to identify, classify, securely handle, retain, and dispose of data.\n",
      "\n",
      "UEM-14 maps to CISC-15\n",
      "Base description: Define, implement and evaluate processes, procedures and technical and/or contractual measures to maintain proper security of third-party endpoints with access to organizational assets. \n",
      "Target description: Develop a process to evaluate service providers who hold sensitive data, or are responsible for an enterprise’s critical IT platforms or processes, to ensure these providers are protecting those platforms and data appropriately.\n",
      "\n"
     ]
    }
   ],
   "source": [
    "for control, mapping in control_mapping.items():\n",
    "    if mapping is not None:\n",
    "        print(f\"{control} maps to {mapping}\")\n",
    "        print(f\"Base description: {base_controls[control]}\")\n",
    "        print(f\"Target description: {target_controls[mapping]}\\n\")"
   ]
  }
 ],
 "metadata": {
  "kernelspec": {
   "display_name": "Python 3 (ipykernel)",
   "language": "python",
   "name": "python3"
  },
  "language_info": {
   "codemirror_mode": {
    "name": "ipython",
    "version": 3
   },
   "file_extension": ".py",
   "mimetype": "text/x-python",
   "name": "python",
   "nbconvert_exporter": "python",
   "pygments_lexer": "ipython3",
   "version": "3.9.16"
  }
 },
 "nbformat": 4,
 "nbformat_minor": 2
}
